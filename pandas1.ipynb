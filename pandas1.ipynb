{
 "cells": [
  {
   "cell_type": "code",
   "execution_count": null,
   "id": "89002f53",
   "metadata": {},
   "outputs": [],
   "source": [
    "Aisha Beevi K M _______________________________________________________________________________________ 24-8-2022"
   ]
  },
  {
   "cell_type": "markdown",
   "id": "d79433d4",
   "metadata": {},
   "source": [
    "# P1-create & display 1d array like object"
   ]
  },
  {
   "cell_type": "code",
   "execution_count": 1,
   "id": "598a2d08",
   "metadata": {},
   "outputs": [
    {
     "name": "stdout",
     "output_type": "stream",
     "text": [
      "Defaulting to user installation because normal site-packages is not writeable\n",
      "Requirement already satisfied: pandas in /opt/anaconda3/lib/python3.9/site-packages (1.4.2)\n",
      "Requirement already satisfied: python-dateutil>=2.8.1 in /opt/anaconda3/lib/python3.9/site-packages (from pandas) (2.8.2)\n",
      "Requirement already satisfied: pytz>=2020.1 in /opt/anaconda3/lib/python3.9/site-packages (from pandas) (2021.3)\n",
      "Requirement already satisfied: numpy>=1.18.5 in /opt/anaconda3/lib/python3.9/site-packages (from pandas) (1.21.5)\n",
      "Requirement already satisfied: six>=1.5 in /opt/anaconda3/lib/python3.9/site-packages (from python-dateutil>=2.8.1->pandas) (1.16.0)\n",
      "Note: you may need to restart the kernel to use updated packages.\n"
     ]
    }
   ],
   "source": [
    "pip install pandas"
   ]
  },
  {
   "cell_type": "code",
   "execution_count": 3,
   "id": "83d83a20",
   "metadata": {},
   "outputs": [],
   "source": [
    "import pandas as pd"
   ]
  },
  {
   "cell_type": "code",
   "execution_count": 8,
   "id": "bec97feb",
   "metadata": {},
   "outputs": [
    {
     "name": "stdout",
     "output_type": "stream",
     "text": [
      "0    8\n",
      "1    4\n",
      "2    2\n",
      "3    9\n",
      "dtype: int64\n",
      "4\n"
     ]
    }
   ],
   "source": [
    "\n",
    "import pandas as pd\n",
    "ar=[8,4,2,9] \n",
    "a=pd.Series(ar)\n",
    "print(a) \n",
    "print(a[1])"
   ]
  },
  {
   "cell_type": "markdown",
   "id": "3fc94caf",
   "metadata": {},
   "source": [
    "# P2-add,subtract,multiply,divide 2 pandas series"
   ]
  },
  {
   "cell_type": "code",
   "execution_count": 10,
   "id": "c76de874",
   "metadata": {},
   "outputs": [
    {
     "name": "stdout",
     "output_type": "stream",
     "text": [
      "sum:\n",
      "0    15\n",
      "1    12\n",
      "2    12\n",
      "3     4\n",
      "dtype: int64\n",
      "difference:\n",
      "0    5\n",
      "1    6\n",
      "2    4\n",
      "3    0\n",
      "dtype: int64\n",
      "product:\n",
      "0    50\n",
      "1    27\n",
      "2    32\n",
      "3     4\n",
      "dtype: int64\n",
      "Quotient:\n",
      "0    2.0\n",
      "1    3.0\n",
      "2    2.0\n",
      "3    1.0\n",
      "dtype: float64\n"
     ]
    }
   ],
   "source": [
    "\n",
    "s1=pd.Series([10,9,8,2]) \n",
    "s2=pd.Series([5,3,4,2]) \n",
    "print(\"sum:\")\n",
    "print(s1+s2)\n",
    "print(\"difference:\")\n",
    "print(s1-s2)\n",
    "print(\"product:\")\n",
    "print(s1*s2)\n",
    "print(\"Quotient:\")\n",
    "print(s1/s2)"
   ]
  },
  {
   "cell_type": "code",
   "execution_count": 3,
   "id": "6bac95da",
   "metadata": {},
   "outputs": [
    {
     "name": "stdout",
     "output_type": "stream",
     "text": [
      "   index  color\n",
      "0      1   blue\n",
      "1      2  black\n",
      "2      3    red\n",
      "3      4  green\n"
     ]
    }
   ],
   "source": [
    "#P3-create dataframe & save as csv \n",
    "d={\"index\":[1,2,3,4],\"color\":[\"blue\",\"black\",\"red\",\"green\"]} \n",
    "df=pd.DataFrame(d) \n",
    "print(df) \n",
    "df.to_csv('colors.csv',index=False) \n",
    "df=pd.read_csv('colors.csv')"
   ]
  },
  {
   "cell_type": "code",
   "execution_count": null,
   "id": "e99006e2",
   "metadata": {},
   "outputs": [],
   "source": [
    "Aisha Beevi K M _______________________________________________________________________________________ 26-8-2022"
   ]
  },
  {
   "cell_type": "markdown",
   "id": "c4a6138c",
   "metadata": {},
   "source": [
    "# P4-create & display dataframe from specified dictionary data "
   ]
  },
  {
   "cell_type": "code",
   "execution_count": 6,
   "id": "fe9b099f",
   "metadata": {},
   "outputs": [
    {
     "name": "stdout",
     "output_type": "stream",
     "text": [
      "      name  score  attempts qualify\n",
      "0    Annie   74.0         3     yes\n",
      "1     Jean   88.0         1     yes\n",
      "2  Christa    5.0         2      no\n",
      "3    Marco    9.0         1      no\n",
      "4     Eren    NaN         5     yes\n",
      "5    Armin   96.0         1     yes\n",
      "6   Mikasa   90.0         2     yes\n",
      "7    Sasha   62.0         3      no\n",
      "8     Levi    NaN         2     yes\n",
      "9    Erwin   98.0         1     yes\n",
      "      name qualify\n",
      "0    Annie     yes\n",
      "1     Jean     yes\n",
      "2  Christa      no\n",
      "3    Marco      no\n",
      "4     Eren     yes\n",
      "5    Armin     yes\n",
      "6   Mikasa     yes\n",
      "7    Sasha      no\n",
      "8     Levi     yes\n",
      "9    Erwin     yes\n",
      "    name  score  attempts qualify\n",
      "0  Annie   74.0         3     yes\n",
      "4   Eren    NaN         5     yes\n",
      "7  Sasha   62.0         3      no\n",
      "total rows: 10\n",
      "total columns: 4\n",
      "    name  score  attempts qualify\n",
      "1   Jean   88.0         1     yes\n",
      "5  Armin   96.0         1     yes\n",
      "9  Erwin   98.0         1     yes\n",
      "   name  score  attempts qualify\n",
      "4  Eren    NaN         5     yes\n",
      "8  Levi    NaN         2     yes\n"
     ]
    }
   ],
   "source": [
    "\n",
    "import numpy as np\n",
    "\n",
    "exam_details={\n",
    "    'name':[\"Annie\",\"Jean\",\"Christa\",\"Marco\",\"Eren\",\"Armin\",\"Mikasa\",\"Sasha\",\"Levi\",\"Erwin\"],\n",
    "    'score':[74,88,5,9,np.nan,96,90,62,np.nan,98],\n",
    "    'attempts':[3,1,2,1,5,1,2,3,2,1],\n",
    "    'qualify':['yes', 'yes' ,'no','no', 'yes' ,'yes' , 'yes' , 'no' ,'yes' ,'yes' ]\n",
    "} \n",
    "df=pd.DataFrame(exam_details)\n",
    "print(df)\n",
    "\n",
    "print(df[['name','qualify']]) \n",
    "print(df[df['attempts']>2]) \n",
    "print(\"total rows:\",len(df.axes[0])) \n",
    "print(\"total columns:\",len(df.axes[1])) \n",
    "print(df[(df['attempts']<2) &(df['score']>10)])\n",
    "print(df[df['score'].isnull()])"
   ]
  },
  {
   "cell_type": "markdown",
   "id": "0ab31775",
   "metadata": {},
   "source": []
  },
  {
   "cell_type": "markdown",
   "id": "8b5ea8b1",
   "metadata": {},
   "source": [
    "Aisha Beevi K M _______________________________________________________________________________________ 26-8-2022"
   ]
  },
  {
   "cell_type": "markdown",
   "id": "8fcd3a2c",
   "metadata": {},
   "source": [
    "# P5"
   ]
  },
  {
   "cell_type": "code",
   "execution_count": 34,
   "id": "3c75e772",
   "metadata": {
    "scrolled": false
   },
   "outputs": [
    {
     "name": "stdout",
     "output_type": "stream",
     "text": [
      "   id     name   age       degree  cgpa\n",
      "0   1    Mikey  20.0    Bsc.Maths   NaN\n",
      "1   2   Hinata  15.0  Bsc.Physics   2.4\n",
      "2   3      Gon  16.0          NaN   2.7\n",
      "3   4   Killua  17.0   BA.English   4.1\n",
      "4   5  Tanjiro   NaN   BA.History   4.8\n",
      "5   6     Eren  22.0         Bcom   3.5\n",
      "   id     name   age       degree  cgpa  class\n",
      "0   1    Mikey  20.0    Bsc.Maths   NaN      2\n",
      "1   2   Hinata  15.0  Bsc.Physics   2.4      3\n",
      "2   3      Gon  16.0          NaN   2.7      3\n",
      "3   4   Killua  17.0   BA.English   4.1      1\n",
      "4   5  Tanjiro   NaN   BA.History   4.8      1\n",
      "5   6     Eren  22.0         Bcom   3.5      2\n",
      "total no. of columns: 6\n",
      "   id    name   age       degree  cgpa  class\n",
      "0   1   Mikey  20.0    Bsc.Maths   NaN      2\n",
      "1   2  Hinata  15.0  Bsc.Physics   2.4      3\n",
      "2   3     Gon  16.0          NaN   2.7      3\n",
      "   id     name   age      degree  cgpa  class\n",
      "2   3      Gon  16.0         NaN   2.7      3\n",
      "3   4   Killua  17.0  BA.English   4.1      1\n",
      "4   5  Tanjiro   NaN  BA.History   4.8      1\n",
      "5   6     Eren  22.0        Bcom   3.5      2\n",
      "   id     name   age       degree  cgpa  class\n",
      "0   1    Mikey  20.0    Bsc.Maths   NaN      2\n",
      "1   2   Hinata  15.0  Bsc.Physics   2.4      3\n",
      "2   3      Gon  16.0          NaN   2.7      3\n",
      "3   4   Killua  17.0   BA.English   4.1      1\n",
      "4   5  Tanjiro   NaN   BA.History   4.8      1\n",
      "5   6     Eren  22.0         Bcom   3.5      2\n",
      "      name   age       degree  cgpa  class\n",
      "0    Mikey  20.0    Bsc.Maths   NaN      2\n",
      "1   Hinata  15.0  Bsc.Physics   2.4      3\n",
      "2      Gon  16.0          NaN   2.7      3\n",
      "3   Killua  17.0   BA.English   4.1      1\n",
      "4  Tanjiro   NaN   BA.History   4.8      1\n",
      "5     Eren  22.0         Bcom   3.5      2\n",
      "      name  cgpa\n",
      "1   Hinata   2.4\n",
      "2      Gon   2.7\n",
      "3   Killua   4.1\n",
      "4  Tanjiro   4.8\n",
      "mean age: 18.0\n",
      "      name   age       degree  cgpa  class\n",
      "0    Mikey  20.0    Bsc.Maths   NaN      2\n",
      "1   Hinata  15.0  Bsc.Physics   2.4      3\n",
      "2      Gon  16.0          NaN   2.7      3\n",
      "3   Killua  17.0   BA.English   4.1      1\n",
      "4  Tanjiro  18.0   BA.History   4.8      1\n",
      "5     Eren  22.0         Bcom   3.5      2\n"
     ]
    }
   ],
   "source": [
    "#Pandas-5\n",
    "import pandas as pd \n",
    "import numpy as np\n",
    "student={\"id\":[ 1,2,3,4,5,6 ], \"name\": [ \"Mikey\" , \"Hinata\" , \"Gon\" , \"Killua\" , \"Tanjiro\" , \"Eren\" ],\n",
    "         \"age\": [ 20,15,16,17,np.nan,22 ], \"degree\": [ \"Bsc.Maths\",\"Bsc.Physics\",np.nan,\"BA.English\",\"BA.History\",\"Bcom\"],\n",
    "         \"cgpa\": [ np.nan,2.4,2.7,4.1,4.8,3.5]} \n",
    "df=pd.DataFrame(student) \n",
    "print(df) \n",
    "\n",
    "cls=[2,3,3,1,1,2]\n",
    "df['class']=cls \n",
    "print(df)\n",
    "\n",
    "print(\"total no. of columns:\",len(df.axes[1])) \n",
    "\n",
    "print(df.head(3)) \n",
    "print(df.tail(4))\n",
    " \n",
    "df.dropna()\n",
    "print(df)\n",
    "\n",
    "df=df.drop(columns=['id']) \n",
    "print(df) \n",
    " \n",
    "d=df.head(5) \n",
    "t=d.tail(4)\n",
    "print(t[['name','cgpa']]) \n",
    "\n",
    "mn=df[\"age\"].mean()\n",
    "print(\"mean age:\",mn) \n",
    "df[\"age\"]=df[\"age\"].fillna(mn) \n",
    "print(df)"
   ]
  },
  {
   "cell_type": "code",
   "execution_count": null,
   "id": "da9ba2b4",
   "metadata": {},
   "outputs": [],
   "source": []
  }
 ],
 "metadata": {
  "kernelspec": {
   "display_name": "Python 3 (ipykernel)",
   "language": "python",
   "name": "python3"
  },
  "language_info": {
   "codemirror_mode": {
    "name": "ipython",
    "version": 3
   },
   "file_extension": ".py",
   "mimetype": "text/x-python",
   "name": "python",
   "nbconvert_exporter": "python",
   "pygments_lexer": "ipython3",
   "version": "3.9.12"
  }
 },
 "nbformat": 4,
 "nbformat_minor": 5
}
