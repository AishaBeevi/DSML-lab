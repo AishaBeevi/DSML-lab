{
 "cells": [
  {
   "cell_type": "code",
   "execution_count": 1,
   "id": "6accea05",
   "metadata": {},
   "outputs": [],
   "source": [
    "import numpy as np"
   ]
  },
  {
   "cell_type": "code",
   "execution_count": 2,
   "id": "75f0cf62",
   "metadata": {},
   "outputs": [
    {
     "name": "stdout",
     "output_type": "stream",
     "text": [
      "checkereboard pattern:\n",
      "[[0 1 0 1 0 1 0 1]\n",
      " [1 0 1 0 1 0 1 0]\n",
      " [0 1 0 1 0 1 0 1]\n",
      " [1 0 1 0 1 0 1 0]\n",
      " [0 1 0 1 0 1 0 1]\n",
      " [1 0 1 0 1 0 1 0]\n",
      " [0 1 0 1 0 1 0 1]\n",
      " [1 0 1 0 1 0 1 0]]\n"
     ]
    }
   ],
   "source": [
    "#program3-c2\n",
    "print(\"checkereboard pattern:\") \n",
    "x=np.zeros((8,8),dtype=int)\n",
    "x[1::2,::2]=1\n",
    "x[::2,1::2]=1\n",
    "print(x)"
   ]
  },
  {
   "cell_type": "code",
   "execution_count": 4,
   "id": "9dff614a",
   "metadata": {},
   "outputs": [
    {
     "name": "stdout",
     "output_type": "stream",
     "text": [
      "[5 3 8 2 1]\n",
      "[3 2 1]\n",
      "common elements: [False  True False  True  True]\n"
     ]
    }
   ],
   "source": [
    "#program4-c2\n",
    "a1=np.array([5,3,8,2,1])\n",
    "print(a1)\n",
    "a2=np.array([3,2,1])\n",
    "print(a2)\n",
    "print(\":\",np.in1d(a1,a2))"
   ]
  },
  {
   "cell_type": "code",
   "execution_count": 6,
   "id": "82795c70",
   "metadata": {},
   "outputs": [
    {
     "name": "stdout",
     "output_type": "stream",
     "text": [
      "[5 3 8 2 1]\n",
      "[3 2 1]\n",
      "common elements: [1 2 3]\n",
      "union of arrays: [1 2 3 5 8]\n"
     ]
    }
   ],
   "source": [
    "#program5-c2\n",
    "a1=np.array([5,3,8,2,1])\n",
    "print(a1)\n",
    "a2=np.array([3,2,1])\n",
    "print(a2)\n",
    "print(\"common elements:\",np.intersect1d(a1,a2))\n",
    "print(\"union of arrays:\",np.union1d(a1,a2))"
   ]
  },
  {
   "cell_type": "code",
   "execution_count": 7,
   "id": "0225b056",
   "metadata": {},
   "outputs": [
    {
     "name": "stdout",
     "output_type": "stream",
     "text": [
      "[1 1 2 2 2 3 4 5 5]\n",
      "unique elements: [1 2 3 4 5]\n"
     ]
    }
   ],
   "source": [
    "#program6-c2\n",
    "a3=np.array([1,1,2,2,2,3,4,5,5])\n",
    "print(a3)\n",
    "print(\"unique elements:\",np.unique(a3))"
   ]
  },
  {
   "cell_type": "code",
   "execution_count": 12,
   "id": "96ed9dfe",
   "metadata": {},
   "outputs": [
    {
     "name": "stdout",
     "output_type": "stream",
     "text": [
      "array: [ 2  4  6  8 10]\n",
      "type: <class 'numpy.ndarray'>\n",
      "[2, 4, 6, 8, 10]\n",
      "type: <class 'list'>\n"
     ]
    }
   ],
   "source": [
    "#program7-c2\n",
    "a4=np.array([2,4,6,8,10])\n",
    "print(\"array:\",a4)\n",
    "print(\"type:\",type(a4))\n",
    "l1=a4.tolist()\n",
    "print(l1)\n",
    "print(\"type:\",type(l1))"
   ]
  },
  {
   "cell_type": "code",
   "execution_count": 21,
   "id": "d368024c",
   "metadata": {},
   "outputs": [
    {
     "name": "stdout",
     "output_type": "stream",
     "text": [
      "checkereboard pattern:\n",
      "[[0 0 0 0 1 1 1 1]\n",
      " [1 1 1 1 0 0 0 0]\n",
      " [0 0 0 0 1 1 1 1]\n",
      " [1 1 1 1 0 0 0 0]\n",
      " [0 0 0 0 1 1 1 1]\n",
      " [1 1 1 1 0 0 0 0]\n",
      " [0 0 0 0 1 1 1 1]\n",
      " [1 1 1 1 0 0 0 0]]\n"
     ]
    }
   ],
   "source": [
    "#checkerboard pattern-q12\n",
    "print(\"checkereboard pattern:\") \n",
    "b=np.zeros((8,8),dtype=int)\n",
    "b[::2,4::]=1\n",
    "b[1::2,:4:]=1\n",
    "print(b)"
   ]
  },
  {
   "cell_type": "code",
   "execution_count": 27,
   "id": "fe716bce",
   "metadata": {},
   "outputs": [
    {
     "name": "stdout",
     "output_type": "stream",
     "text": [
      "checkereboard pattern:\n",
      "[[1 1 0 0 1 1 0 0]\n",
      " [0 0 1 1 0 0 1 1]\n",
      " [1 1 0 0 1 1 0 0]\n",
      " [0 0 1 1 0 0 1 1]\n",
      " [1 1 0 0 1 1 0 0]\n",
      " [0 0 1 1 0 0 1 1]\n",
      " [1 1 0 0 1 1 0 0]\n",
      " [0 0 1 1 0 0 1 1]]\n"
     ]
    }
   ],
   "source": [
    "#sample\n",
    "print(\"checkereboard pattern:\") \n",
    "j=np.zeros((8,8),dtype=int)\n",
    "j[::2,:2:]=1\n",
    "j[::2,4:6:]=1\n",
    "j[1::2,2:4:]=1\n",
    "j[1::2,6::]=1\n",
    "print(j)"
   ]
  },
  {
   "cell_type": "code",
   "execution_count": null,
   "id": "7f649397",
   "metadata": {},
   "outputs": [],
   "source": [
    "#checkerboard pattern-q13"
   ]
  },
  {
   "cell_type": "code",
   "execution_count": 37,
   "id": "38cd828e",
   "metadata": {},
   "outputs": [
    {
     "name": "stdout",
     "output_type": "stream",
     "text": [
      "checkerboard pattern:\n",
      "[[1 1 0 0 1 1 0 0]\n",
      " [0 0 1 1 0 0 1 1]\n",
      " [1 1 0 0 0 0 1 1]\n",
      " [0 0 1 1 1 1 0 0]\n",
      " [1 1 0 0 0 0 1 1]\n",
      " [0 0 1 1 1 1 0 0]\n",
      " [1 1 0 0 1 1 0 0]\n",
      " [0 0 1 1 0 0 1 1]]\n"
     ]
    }
   ],
   "source": [
    "import numpy as np\n",
    "print(\"checkerboard pattern:\") \n",
    "z=np.zeros((8,8),dtype=int)\n",
    "z[::2,:2:]=1\n",
    "z[::2,4:6:]=1\n",
    "z[1::2,2:4:]=1\n",
    "z[1::3,6::]=1\n",
    "z[2:5:2,6::]=1\n",
    "z[3:6:2,2:6:]=1\n",
    "z[2:5:2,2:6:]=0\n",
    "print(z)"
   ]
  },
  {
   "cell_type": "code",
   "execution_count": 14,
   "id": "1c0376c8",
   "metadata": {},
   "outputs": [
    {
     "name": "stdout",
     "output_type": "stream",
     "text": [
      "[[1 3 5]\n",
      " [2 4 9]]\n",
      "first column: [1 2]\n",
      "second column: [3 4]\n",
      "third column: [5 9]\n"
     ]
    }
   ],
   "source": [
    "#program-8\n",
    "#acces array by column\n",
    "import numpy as np\n",
    "a1=np.array([[1,3,5],[2,4,9]]) \n",
    "print(a1)\n",
    "print(\"first column:\",a1[:,0])\n",
    "print(\"second column:\",a1[:,1])\n",
    "print(\"third column:\",a1[:,2])"
   ]
  },
  {
   "cell_type": "code",
   "execution_count": 41,
   "id": "ed188d7c",
   "metadata": {},
   "outputs": [
    {
     "name": "stdout",
     "output_type": "stream",
     "text": [
      "matrix1:\n",
      "[[1 8 3]\n",
      " [2 5 7]\n",
      " [9 4 6]]\n",
      "matrix2:\n",
      "[[5 1 4]\n",
      " [2 8 9]\n",
      " [7 3 6]]\n",
      "product of matrices:\n",
      "[[ 42  74  94]\n",
      " [ 69  63  95]\n",
      " [ 95  59 108]]\n",
      "sum of matrices:\n",
      "[[ 6  9  7]\n",
      " [ 4 13 16]\n",
      " [16  7 12]]\n"
     ]
    }
   ],
   "source": [
    "#program-9\n",
    "#matrix multiplication and addition\n",
    "import numpy as np\n",
    "m1=np.array([[1,8,3],[2,5,7],[9,4,6]])\n",
    "m2=np.array([[5,1,4],[2,8,9],[7,3,6]])\n",
    "print(\"matrix1:\")\n",
    "print(m1)\n",
    "print(\"matrix2:\")\n",
    "print(m2)\n",
    "print(\"product of matrices:\")\n",
    "print(np.dot(m1,m2))\n",
    "print(\"sum of matrices:\")\n",
    "print(np.add(m1,m2))"
   ]
  },
  {
   "cell_type": "code",
   "execution_count": 28,
   "id": "098e86c9",
   "metadata": {},
   "outputs": [
    {
     "name": "stdout",
     "output_type": "stream",
     "text": [
      "matrix:\n",
      "[[4 2]\n",
      " [7 2]]\n",
      "eigen values: [ 6.87298335 -0.87298335]\n",
      "eigen vectors:\n",
      "[[ 0.57133452 -0.37969079]\n",
      " [ 0.82071729  0.92511345]]\n"
     ]
    }
   ],
   "source": [
    "#program-10\n",
    "#eigen values and eigen vectors\n",
    "import numpy as np\n",
    "q=np.array([[4,2],[7,2]]) \n",
    "print(\"matrix:\")\n",
    "print(q) \n",
    "w,v=np.linalg.eig(q)\n",
    "print(\"eigen values:\",w)\n",
    "print(\"eigen vectors:\")\n",
    "print(v)"
   ]
  },
  {
   "cell_type": "code",
   "execution_count": 35,
   "id": "133a7315",
   "metadata": {},
   "outputs": [
    {
     "name": "stdout",
     "output_type": "stream",
     "text": [
      "[[3 8]\n",
      " [5 7]]\n",
      "transpose:\n",
      "[[3 5]\n",
      " [8 7]]\n",
      "determinant: -18.999999999999996\n",
      "inverse:\n",
      "[[-0.36842105  0.42105263]\n",
      " [ 0.26315789 -0.15789474]]\n"
     ]
    }
   ],
   "source": [
    "#program-11\n",
    "#transpose,determinant,inverse of matrix \n",
    "import numpy as np\n",
    "m=np.array([[3,8],[5,7]])\n",
    "print(m)\n",
    "print(\"transpose:\")\n",
    "print(np.transpose(m))\n",
    "print(\"determinant:\",np.linalg.det(m))\n",
    "print(\"inverse:\")\n",
    "print(np.linalg.inv(m))"
   ]
  },
  {
   "cell_type": "code",
   "execution_count": null,
   "id": "7fa56fa4",
   "metadata": {},
   "outputs": [],
   "source": []
  }
 ],
 "metadata": {
  "kernelspec": {
   "display_name": "Python 3 (ipykernel)",
   "language": "python",
   "name": "python3"
  },
  "language_info": {
   "codemirror_mode": {
    "name": "ipython",
    "version": 3
   },
   "file_extension": ".py",
   "mimetype": "text/x-python",
   "name": "python",
   "nbconvert_exporter": "python",
   "pygments_lexer": "ipython3",
   "version": "3.9.12"
  }
 },
 "nbformat": 4,
 "nbformat_minor": 5
}
