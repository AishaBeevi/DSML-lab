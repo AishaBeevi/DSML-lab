{
 "cells": [
  {
   "cell_type": "code",
   "execution_count": null,
   "id": "388f8827",
   "metadata": {},
   "outputs": [],
   "source": [
    "Aisha Beevi K M                                                                                   4-11-2022"
   ]
  },
  {
   "cell_type": "markdown",
   "id": "8aaad48c",
   "metadata": {},
   "source": [
    "# Single Layer Perceptron"
   ]
  },
  {
   "cell_type": "code",
   "execution_count": 1,
   "id": "993c58c2",
   "metadata": {},
   "outputs": [
    {
     "data": {
      "text/plain": [
       "Perceptron()"
      ]
     },
     "execution_count": 1,
     "metadata": {},
     "output_type": "execute_result"
    }
   ],
   "source": [
    "##importing perceptron\n",
    "from sklearn.linear_model import Perceptron\n",
    "##training data for AND\n",
    "x_train=[[0,0],[0,1],[1,0],[1,1]]\n",
    "y_train=[0,0,0,1]\n",
    "#model creation\n",
    "classifier=Perceptron(tol=1e-3,random_state=0)\n",
    "classifier.fit(x_train,y_train)"
   ]
  },
  {
   "cell_type": "code",
   "execution_count": 2,
   "id": "15c82b48",
   "metadata": {},
   "outputs": [],
   "source": [
    "#prediction\n",
    "y_pred=classifier.predict(x_train)"
   ]
  },
  {
   "cell_type": "code",
   "execution_count": 4,
   "id": "f4fc0fbe",
   "metadata": {},
   "outputs": [
    {
     "name": "stdout",
     "output_type": "stream",
     "text": [
      "[0 0 0 1]\n",
      "[[2. 2.]] [-2.]\n"
     ]
    }
   ],
   "source": [
    "print(y_pred)\n",
    "print(classifier.coef_,classifier.intercept_)"
   ]
  },
  {
   "cell_type": "code",
   "execution_count": null,
   "id": "3550e7eb",
   "metadata": {},
   "outputs": [],
   "source": []
  }
 ],
 "metadata": {
  "kernelspec": {
   "display_name": "Python 3 (ipykernel)",
   "language": "python",
   "name": "python3"
  },
  "language_info": {
   "codemirror_mode": {
    "name": "ipython",
    "version": 3
   },
   "file_extension": ".py",
   "mimetype": "text/x-python",
   "name": "python",
   "nbconvert_exporter": "python",
   "pygments_lexer": "ipython3",
   "version": "3.9.12"
  }
 },
 "nbformat": 4,
 "nbformat_minor": 5
}
