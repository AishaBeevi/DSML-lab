{
 "cells": [
  {
   "cell_type": "code",
   "execution_count": null,
   "id": "26102b97",
   "metadata": {},
   "outputs": [],
   "source": [
    "Aisha Beevi K M                                                                                         30-9-2022"
   ]
  },
  {
   "cell_type": "markdown",
   "id": "1985e0d3",
   "metadata": {},
   "source": [
    "# KNN-2 Telco-Customer-Churn"
   ]
  },
  {
   "cell_type": "code",
   "execution_count": 33,
   "id": "3b4c34bc",
   "metadata": {},
   "outputs": [
    {
     "name": "stdout",
     "output_type": "stream",
     "text": [
      "Defaulting to user installation because normal site-packages is not writeable\n",
      "Requirement already satisfied: scikit-learn in /opt/anaconda3/lib/python3.9/site-packages (1.0.2)\n",
      "Requirement already satisfied: threadpoolctl>=2.0.0 in /opt/anaconda3/lib/python3.9/site-packages (from scikit-learn) (2.2.0)\n",
      "Requirement already satisfied: numpy>=1.14.6 in /opt/anaconda3/lib/python3.9/site-packages (from scikit-learn) (1.21.5)\n",
      "Requirement already satisfied: joblib>=0.11 in /opt/anaconda3/lib/python3.9/site-packages (from scikit-learn) (1.1.0)\n",
      "Requirement already satisfied: scipy>=1.1.0 in /opt/anaconda3/lib/python3.9/site-packages (from scikit-learn) (1.7.3)\n",
      "      customerID  gender  SeniorCitizen Partner Dependents  tenure  \\\n",
      "0     7590-VHVEG  Female              0     Yes         No       1   \n",
      "1     5575-GNVDE    Male              0      No         No      34   \n",
      "2     3668-QPYBK    Male              0      No         No       2   \n",
      "3     7795-CFOCW    Male              0      No         No      45   \n",
      "4     9237-HQITU  Female              0      No         No       2   \n",
      "...          ...     ...            ...     ...        ...     ...   \n",
      "7038  6840-RESVB    Male              0     Yes        Yes      24   \n",
      "7039  2234-XADUH  Female              0     Yes        Yes      72   \n",
      "7040  4801-JZAZL  Female              0     Yes        Yes      11   \n",
      "7041  8361-LTMKD    Male              1     Yes         No       4   \n",
      "7042  3186-AJIEK    Male              0      No         No      66   \n",
      "\n",
      "     PhoneService     MultipleLines InternetService OnlineSecurity  ...  \\\n",
      "0              No  No phone service             DSL             No  ...   \n",
      "1             Yes                No             DSL            Yes  ...   \n",
      "2             Yes                No             DSL            Yes  ...   \n",
      "3              No  No phone service             DSL            Yes  ...   \n",
      "4             Yes                No     Fiber optic             No  ...   \n",
      "...           ...               ...             ...            ...  ...   \n",
      "7038          Yes               Yes             DSL            Yes  ...   \n",
      "7039          Yes               Yes     Fiber optic             No  ...   \n",
      "7040           No  No phone service             DSL            Yes  ...   \n",
      "7041          Yes               Yes     Fiber optic             No  ...   \n",
      "7042          Yes                No     Fiber optic            Yes  ...   \n",
      "\n",
      "     DeviceProtection TechSupport StreamingTV StreamingMovies        Contract  \\\n",
      "0                  No          No          No              No  Month-to-month   \n",
      "1                 Yes          No          No              No        One year   \n",
      "2                  No          No          No              No  Month-to-month   \n",
      "3                 Yes         Yes          No              No        One year   \n",
      "4                  No          No          No              No  Month-to-month   \n",
      "...               ...         ...         ...             ...             ...   \n",
      "7038              Yes         Yes         Yes             Yes        One year   \n",
      "7039              Yes          No         Yes             Yes        One year   \n",
      "7040               No          No          No              No  Month-to-month   \n",
      "7041               No          No          No              No  Month-to-month   \n",
      "7042              Yes         Yes         Yes             Yes        Two year   \n",
      "\n",
      "     PaperlessBilling              PaymentMethod MonthlyCharges  TotalCharges  \\\n",
      "0                 Yes           Electronic check          29.85         29.85   \n",
      "1                  No               Mailed check          56.95        1889.5   \n",
      "2                 Yes               Mailed check          53.85        108.15   \n",
      "3                  No  Bank transfer (automatic)          42.30       1840.75   \n",
      "4                 Yes           Electronic check          70.70        151.65   \n",
      "...               ...                        ...            ...           ...   \n",
      "7038              Yes               Mailed check          84.80        1990.5   \n",
      "7039              Yes    Credit card (automatic)         103.20        7362.9   \n",
      "7040              Yes           Electronic check          29.60        346.45   \n",
      "7041              Yes               Mailed check          74.40         306.6   \n",
      "7042              Yes  Bank transfer (automatic)         105.65        6844.5   \n",
      "\n",
      "     Churn  \n",
      "0       No  \n",
      "1       No  \n",
      "2      Yes  \n",
      "3       No  \n",
      "4      Yes  \n",
      "...    ...  \n",
      "7038    No  \n",
      "7039    No  \n",
      "7040    No  \n",
      "7041   Yes  \n",
      "7042    No  \n",
      "\n",
      "[7043 rows x 21 columns]\n"
     ]
    }
   ],
   "source": [
    "import numpy as np\n",
    "import pandas as pd\n",
    "!pip install scikit-learn\n",
    "df=pd.read_csv('Telco-Customer-Churn.csv')\n",
    "print(df)"
   ]
  },
  {
   "cell_type": "code",
   "execution_count": 14,
   "id": "bb7be9ca",
   "metadata": {},
   "outputs": [],
   "source": [
    "#df.drop('customerID', axis=1,inplace=True)"
   ]
  },
  {
   "cell_type": "code",
   "execution_count": 34,
   "id": "1c0f956f",
   "metadata": {},
   "outputs": [],
   "source": [
    "df[\"TotalCharges\"]=pd.to_numeric(pd.to_numeric(df[\"TotalCharges\"], errors='coerce'))\n",
    "df=df.dropna()"
   ]
  },
  {
   "cell_type": "code",
   "execution_count": 36,
   "id": "a3029f56",
   "metadata": {},
   "outputs": [
    {
     "name": "stdout",
     "output_type": "stream",
     "text": [
      "0        No\n",
      "1        No\n",
      "2       Yes\n",
      "3        No\n",
      "4       Yes\n",
      "       ... \n",
      "7038     No\n",
      "7039     No\n",
      "7040     No\n",
      "7041    Yes\n",
      "7042     No\n",
      "Name: Churn, Length: 7032, dtype: object\n"
     ]
    }
   ],
   "source": [
    "Y=df['Churn']\n",
    "df.drop('Churn', axis=1,inplace=True)\n",
    "print(Y)"
   ]
  },
  {
   "cell_type": "code",
   "execution_count": 37,
   "id": "cad85509",
   "metadata": {},
   "outputs": [],
   "source": [
    "df.drop('customerID', axis=1,inplace=True)"
   ]
  },
  {
   "cell_type": "code",
   "execution_count": 38,
   "id": "4ed071da",
   "metadata": {},
   "outputs": [
    {
     "name": "stdout",
     "output_type": "stream",
     "text": [
      "Index(['gender', 'SeniorCitizen', 'Partner', 'Dependents', 'tenure',\n",
      "       'PhoneService', 'MultipleLines', 'InternetService', 'OnlineSecurity',\n",
      "       'OnlineBackup', 'DeviceProtection', 'TechSupport', 'StreamingTV',\n",
      "       'StreamingMovies', 'Contract', 'PaperlessBilling', 'PaymentMethod',\n",
      "       'MonthlyCharges', 'TotalCharges'],\n",
      "      dtype='object')\n"
     ]
    }
   ],
   "source": [
    "cols=df.columns\n",
    "print(cols)"
   ]
  },
  {
   "cell_type": "code",
   "execution_count": 45,
   "id": "2bea8dc3",
   "metadata": {},
   "outputs": [
    {
     "name": "stdout",
     "output_type": "stream",
     "text": [
      "[0 0 1 ... 0 1 0]\n"
     ]
    }
   ],
   "source": [
    "le=LabelEncoder()\n",
    "Y=le.fit_transform(Y)\n",
    "print(Y)"
   ]
  },
  {
   "cell_type": "code",
   "execution_count": 39,
   "id": "d914ba24",
   "metadata": {},
   "outputs": [
    {
     "name": "stdout",
     "output_type": "stream",
     "text": [
      "      gender  SeniorCitizen Partner Dependents  tenure PhoneService  \\\n",
      "0     Female              0     Yes         No       1           No   \n",
      "1       Male              0      No         No      34          Yes   \n",
      "2       Male              0      No         No       2          Yes   \n",
      "3       Male              0      No         No      45           No   \n",
      "4     Female              0      No         No       2          Yes   \n",
      "...      ...            ...     ...        ...     ...          ...   \n",
      "7038    Male              0     Yes        Yes      24          Yes   \n",
      "7039  Female              0     Yes        Yes      72          Yes   \n",
      "7040  Female              0     Yes        Yes      11           No   \n",
      "7041    Male              1     Yes         No       4          Yes   \n",
      "7042    Male              0      No         No      66          Yes   \n",
      "\n",
      "         MultipleLines InternetService OnlineSecurity OnlineBackup  \\\n",
      "0     No phone service             DSL             No          Yes   \n",
      "1                   No             DSL            Yes           No   \n",
      "2                   No             DSL            Yes          Yes   \n",
      "3     No phone service             DSL            Yes           No   \n",
      "4                   No     Fiber optic             No           No   \n",
      "...                ...             ...            ...          ...   \n",
      "7038               Yes             DSL            Yes           No   \n",
      "7039               Yes     Fiber optic             No          Yes   \n",
      "7040  No phone service             DSL            Yes           No   \n",
      "7041               Yes     Fiber optic             No           No   \n",
      "7042                No     Fiber optic            Yes           No   \n",
      "\n",
      "     DeviceProtection TechSupport StreamingTV StreamingMovies        Contract  \\\n",
      "0                  No          No          No              No  Month-to-month   \n",
      "1                 Yes          No          No              No        One year   \n",
      "2                  No          No          No              No  Month-to-month   \n",
      "3                 Yes         Yes          No              No        One year   \n",
      "4                  No          No          No              No  Month-to-month   \n",
      "...               ...         ...         ...             ...             ...   \n",
      "7038              Yes         Yes         Yes             Yes        One year   \n",
      "7039              Yes          No         Yes             Yes        One year   \n",
      "7040               No          No          No              No  Month-to-month   \n",
      "7041               No          No          No              No  Month-to-month   \n",
      "7042              Yes         Yes         Yes             Yes        Two year   \n",
      "\n",
      "     PaperlessBilling              PaymentMethod  MonthlyCharges  TotalCharges  \n",
      "0                 Yes           Electronic check           29.85         29.85  \n",
      "1                  No               Mailed check           56.95       1889.50  \n",
      "2                 Yes               Mailed check           53.85        108.15  \n",
      "3                  No  Bank transfer (automatic)           42.30       1840.75  \n",
      "4                 Yes           Electronic check           70.70        151.65  \n",
      "...               ...                        ...             ...           ...  \n",
      "7038              Yes               Mailed check           84.80       1990.50  \n",
      "7039              Yes    Credit card (automatic)          103.20       7362.90  \n",
      "7040              Yes           Electronic check           29.60        346.45  \n",
      "7041              Yes               Mailed check           74.40        306.60  \n",
      "7042              Yes  Bank transfer (automatic)          105.65       6844.50  \n",
      "\n",
      "[7032 rows x 19 columns]\n"
     ]
    }
   ],
   "source": [
    "x=df\n",
    "print(df)"
   ]
  },
  {
   "cell_type": "code",
   "execution_count": 40,
   "id": "42a93cb7",
   "metadata": {},
   "outputs": [
    {
     "name": "stdout",
     "output_type": "stream",
     "text": [
      "      gender  SeniorCitizen  Partner  Dependents  tenure  PhoneService  \\\n",
      "0          0              0        1           0       0             0   \n",
      "1          1              0        0           0      33             1   \n",
      "2          1              0        0           0       1             1   \n",
      "3          1              0        0           0      44             0   \n",
      "4          0              0        0           0       1             1   \n",
      "...      ...            ...      ...         ...     ...           ...   \n",
      "7038       1              0        1           1      23             1   \n",
      "7039       0              0        1           1      71             1   \n",
      "7040       0              0        1           1      10             0   \n",
      "7041       1              1        1           0       3             1   \n",
      "7042       1              0        0           0      65             1   \n",
      "\n",
      "      MultipleLines  InternetService  OnlineSecurity  OnlineBackup  \\\n",
      "0                 1                0               0             2   \n",
      "1                 0                0               2             0   \n",
      "2                 0                0               2             2   \n",
      "3                 1                0               2             0   \n",
      "4                 0                1               0             0   \n",
      "...             ...              ...             ...           ...   \n",
      "7038              2                0               2             0   \n",
      "7039              2                1               0             2   \n",
      "7040              1                0               2             0   \n",
      "7041              2                1               0             0   \n",
      "7042              0                1               2             0   \n",
      "\n",
      "      DeviceProtection  TechSupport  StreamingTV  StreamingMovies  Contract  \\\n",
      "0                    0            0            0                0         0   \n",
      "1                    2            0            0                0         1   \n",
      "2                    0            0            0                0         0   \n",
      "3                    2            2            0                0         1   \n",
      "4                    0            0            0                0         0   \n",
      "...                ...          ...          ...              ...       ...   \n",
      "7038                 2            2            2                2         1   \n",
      "7039                 2            0            2                2         1   \n",
      "7040                 0            0            0                0         0   \n",
      "7041                 0            0            0                0         0   \n",
      "7042                 2            2            2                2         2   \n",
      "\n",
      "      PaperlessBilling  PaymentMethod  MonthlyCharges  TotalCharges  \n",
      "0                    1              2           29.85         29.85  \n",
      "1                    0              3           56.95       1889.50  \n",
      "2                    1              3           53.85        108.15  \n",
      "3                    0              0           42.30       1840.75  \n",
      "4                    1              2           70.70        151.65  \n",
      "...                ...            ...             ...           ...  \n",
      "7038                 1              3           84.80       1990.50  \n",
      "7039                 1              1          103.20       7362.90  \n",
      "7040                 1              2           29.60        346.45  \n",
      "7041                 1              3           74.40        306.60  \n",
      "7042                 1              0          105.65       6844.50  \n",
      "\n",
      "[7032 rows x 19 columns]\n"
     ]
    }
   ],
   "source": [
    "label_encoder_x=LabelEncoder()\n",
    "x.iloc[:, 0]= label_encoder_x.fit_transform(x.iloc[:, 0])\n",
    "x.iloc[:, 1]= label_encoder_x.fit_transform(x.iloc[:, 1])\n",
    "x.iloc[:, 2]= label_encoder_x.fit_transform(x.iloc[:, 2])\n",
    "x.iloc[:, 3]= label_encoder_x.fit_transform(x.iloc[:, 3])\n",
    "x.iloc[:, 4]= label_encoder_x.fit_transform(x.iloc[:, 4])\n",
    "x.iloc[:, 5]= label_encoder_x.fit_transform(x.iloc[:, 5])\n",
    "x.iloc[:, 6]= label_encoder_x.fit_transform(x.iloc[:, 6])\n",
    "x.iloc[:, 7]= label_encoder_x.fit_transform(x.iloc[:, 7])\n",
    "x.iloc[:, 8]= label_encoder_x.fit_transform(x.iloc[:, 8])\n",
    "x.iloc[:, 9]= label_encoder_x.fit_transform(x.iloc[:, 9])\n",
    "x.iloc[:, 10]= label_encoder_x.fit_transform(x.iloc[:, 10])\n",
    "x.iloc[:, 11]= label_encoder_x.fit_transform(x.iloc[:, 11])\n",
    "x.iloc[:, 12]= label_encoder_x.fit_transform(x.iloc[:, 12])\n",
    "x.iloc[:, 13]= label_encoder_x.fit_transform(x.iloc[:, 13])\n",
    "x.iloc[:, 14]= label_encoder_x.fit_transform(x.iloc[:, 14])\n",
    "x.iloc[:, 15]= label_encoder_x.fit_transform(x.iloc[:, 15])\n",
    "x.iloc[:, 16]= label_encoder_x.fit_transform(x.iloc[:, 16])\n",
    "#x.iloc[:, 17]= label_encoder_x.fit_transform(x[:, 17])\n",
    "\n",
    "#x[:, 18]= label_encoder_x.fit_transform(x[:, 18])\n",
    "#x[:, 0]= label_encoder_x.fit_transform(x[:, 0])\n",
    "\n",
    "print(x)"
   ]
  },
  {
   "cell_type": "code",
   "execution_count": 41,
   "id": "0242f101",
   "metadata": {},
   "outputs": [
    {
     "name": "stdout",
     "output_type": "stream",
     "text": [
      "      gender  SeniorCitizen  Partner  Dependents  tenure  PhoneService  \\\n",
      "0          0              0        1           0       0             0   \n",
      "1          1              0        0           0      33             1   \n",
      "2          1              0        0           0       1             1   \n",
      "3          1              0        0           0      44             0   \n",
      "4          0              0        0           0       1             1   \n",
      "...      ...            ...      ...         ...     ...           ...   \n",
      "7038       1              0        1           1      23             1   \n",
      "7039       0              0        1           1      71             1   \n",
      "7040       0              0        1           1      10             0   \n",
      "7041       1              1        1           0       3             1   \n",
      "7042       1              0        0           0      65             1   \n",
      "\n",
      "      PaperlessBilling  MonthlyCharges  TotalCharges  MultipleLines_0  ...  \\\n",
      "0                    1           29.85         29.85                0  ...   \n",
      "1                    0           56.95       1889.50                1  ...   \n",
      "2                    1           53.85        108.15                1  ...   \n",
      "3                    0           42.30       1840.75                0  ...   \n",
      "4                    1           70.70        151.65                1  ...   \n",
      "...                ...             ...           ...              ...  ...   \n",
      "7038                 1           84.80       1990.50                0  ...   \n",
      "7039                 1          103.20       7362.90                0  ...   \n",
      "7040                 1           29.60        346.45                0  ...   \n",
      "7041                 1           74.40        306.60                0  ...   \n",
      "7042                 1          105.65       6844.50                1  ...   \n",
      "\n",
      "      Contract_0  Contract_1  Contract_2  PaymentMethod_0  PaymentMethod_1  \\\n",
      "0              1           0           0                0                0   \n",
      "1              0           1           0                0                0   \n",
      "2              1           0           0                0                0   \n",
      "3              0           1           0                1                0   \n",
      "4              1           0           0                0                0   \n",
      "...          ...         ...         ...              ...              ...   \n",
      "7038           0           1           0                0                0   \n",
      "7039           0           1           0                0                1   \n",
      "7040           1           0           0                0                0   \n",
      "7041           1           0           0                0                0   \n",
      "7042           0           0           1                1                0   \n",
      "\n",
      "      PaymentMethod_2  PaymentMethod_3  DeviceProtection_0  \\\n",
      "0                   1                0                   1   \n",
      "1                   0                1                   0   \n",
      "2                   0                1                   1   \n",
      "3                   0                0                   0   \n",
      "4                   1                0                   1   \n",
      "...               ...              ...                 ...   \n",
      "7038                0                1                   0   \n",
      "7039                0                0                   0   \n",
      "7040                1                0                   1   \n",
      "7041                0                1                   1   \n",
      "7042                0                0                   0   \n",
      "\n",
      "      DeviceProtection_1  DeviceProtection_2  \n",
      "0                      0                   0  \n",
      "1                      0                   1  \n",
      "2                      0                   0  \n",
      "3                      0                   1  \n",
      "4                      0                   0  \n",
      "...                  ...                 ...  \n",
      "7038                   0                   1  \n",
      "7039                   0                   1  \n",
      "7040                   0                   0  \n",
      "7041                   0                   0  \n",
      "7042                   0                   1  \n",
      "\n",
      "[7032 rows x 40 columns]\n"
     ]
    }
   ],
   "source": [
    "x=df\n",
    "one_hot_encoding_columns=[ 'MultipleLines', 'InternetService', 'OnlineSecurity', 'TechSupport', 'OnlineBackup', 'StreamingTV', 'StreamingMovies', 'Contract','PaymentMethod', 'DeviceProtection' ]\n",
    "x=pd.get_dummies(x,columns=one_hot_encoding_columns)\n",
    "print(x)"
   ]
  },
  {
   "cell_type": "code",
   "execution_count": 42,
   "id": "fb57cf20",
   "metadata": {},
   "outputs": [],
   "source": [
    "from sklearn.model_selection import train_test_split\n",
    "x_train,x_test,y_train,y_test =train_test_split(x, Y, test_size=0.25, random_state=0)\n"
   ]
  },
  {
   "cell_type": "code",
   "execution_count": 43,
   "id": "b3e09ba9",
   "metadata": {},
   "outputs": [
    {
     "name": "stdout",
     "output_type": "stream",
     "text": [
      "[[0. 0. 1. ... 0. 0. 1.]\n",
      " [1. 0. 1. ... 0. 1. 0.]\n",
      " [0. 0. 0. ... 0. 0. 1.]\n",
      " ...\n",
      " [1. 0. 1. ... 0. 0. 1.]\n",
      " [0. 0. 1. ... 1. 0. 0.]\n",
      " [1. 0. 0. ... 0. 0. 1.]]\n"
     ]
    }
   ],
   "source": [
    "from sklearn.preprocessing import MinMaxScaler\n",
    "st_x=MinMaxScaler()\n",
    "x_train=st_x.fit_transform(x_train)\n",
    "x_test=st_x.fit_transform(x_test)\n",
    "print(x_train)"
   ]
  },
  {
   "cell_type": "code",
   "execution_count": 50,
   "id": "43ca67c6",
   "metadata": {},
   "outputs": [
    {
     "name": "stdout",
     "output_type": "stream",
     "text": [
      "['No' 'No' 'No' ... 'Yes' 'No' 'No']\n"
     ]
    }
   ],
   "source": [
    "from sklearn.neighbors import KNeighborsClassifier\n",
    "Classifier=KNeighborsClassifier(n_neighbors=5)\n",
    "Classifier.fit(x_train,y_train)\n",
    "y_pred=Classifier.predict(x_test)\n",
    "print(y_pred)"
   ]
  },
  {
   "cell_type": "code",
   "execution_count": 51,
   "id": "a0391691",
   "metadata": {},
   "outputs": [
    {
     "name": "stdout",
     "output_type": "stream",
     "text": [
      "[[1111  200]\n",
      " [ 216  231]]\n"
     ]
    }
   ],
   "source": [
    "from sklearn.metrics import confusion_matrix\n",
    "cm=confusion_matrix(y_test,y_pred,labels=Classifier.classes_)\n",
    "print(cm)"
   ]
  },
  {
   "cell_type": "code",
   "execution_count": 52,
   "id": "5ea1450b",
   "metadata": {},
   "outputs": [
    {
     "data": {
      "text/plain": [
       "<sklearn.metrics._plot.confusion_matrix.ConfusionMatrixDisplay at 0x7f1969640970>"
      ]
     },
     "execution_count": 52,
     "metadata": {},
     "output_type": "execute_result"
    },
    {
     "data": {
      "image/png": "[encoded data removed]",
      "text/plain": [
       "<Figure size 432x288 with 2 Axes>"
      ]
     },
     "metadata": {
      "needs_background": "light"
     },
     "output_type": "display_data"
    }
   ],
   "source": [
    "from sklearn.metrics import ConfusionMatrixDisplay\n",
    "disp = ConfusionMatrixDisplay(confusion_matrix=cm,\n",
    "display_labels=Classifier.classes_)\n",
    "disp.plot()"
   ]
  },
  {
   "cell_type": "code",
   "execution_count": 54,
   "id": "4e9c8a58",
   "metadata": {},
   "outputs": [
    {
     "name": "stdout",
     "output_type": "stream",
     "text": [
      "0.8282138794084186\n",
      "0.7633674630261661\n"
     ]
    }
   ],
   "source": [
    "training_score = Classifier.score(x_train, y_train)\n",
    "test_score = Classifier.score(x_test, y_test)\n",
    "print(training_score)\n",
    "print(test_score)"
   ]
  },
  {
   "cell_type": "code",
   "execution_count": 59,
   "id": "2d1fd803",
   "metadata": {},
   "outputs": [
    {
     "name": "stdout",
     "output_type": "stream",
     "text": [
      "2 : [0.8581721653394009, 0.7559726962457338]\n",
      "3 : [0.8558968524838833, 0.7417519908987485]\n",
      "4 : [0.8386423966628744, 0.767349260523322]\n",
      "5 : [0.8282138794084186, 0.7633674630261661]\n",
      "6 : [0.8244216913158893, 0.7838452787258248]\n",
      "7 : [0.820250284414107, 0.7696245733788396]\n",
      "8 : [0.8179749715585893, 0.7861205915813424]\n",
      "9 : [0.8122866894197952, 0.7775881683731513]\n",
      "10 : [0.810580204778157, 0.7821387940841866]\n",
      "11 : [0.8141827834660599, 0.7753128555176336]\n",
      "12 : [0.8109594235874099, 0.7753128555176336]\n",
      "13 : [0.8064087978763747, 0.7815699658703071]\n",
      "14 : [0.8081152825180129, 0.7878270762229806]\n",
      "15 : [0.8102009859689041, 0.7838452787258248]\n",
      "16 : [0.8064087978763747, 0.7872582480091013]\n",
      "17 : [0.8020477815699659, 0.7792946530147895]\n",
      "18 : [0.801668562760713, 0.7861205915813424]\n",
      "19 : [0.7973075464543041, 0.7810011376564278]\n",
      "20 : [0.7992036405005688, 0.785551763367463]\n",
      "21 : [0.7963594994311718, 0.7878270762229806]\n",
      "22 : [0.7957906712172924, 0.7861205915813424]\n",
      "23 : [0.7957906712172924, 0.7832764505119454]\n"
     ]
    },
    {
     "data": {
      "image/png": "[encoded data removed]",
      "text/plain": [
       "<Figure size 432x288 with 1 Axes>"
      ]
     },
     "metadata": {
      "needs_background": "light"
     },
     "output_type": "display_data"
    }
   ],
   "source": [
    "K = []\n",
    "training = []\n",
    "test = []\n",
    "scores = {}\n",
    "for k in range(2, 24):\n",
    "    clf = KNeighborsClassifier(n_neighbors = k)\n",
    "    clf.fit(x_train, y_train)\n",
    "    training_score = clf.score(x_train, y_train)\n",
    "    test_score = clf.score(x_test, y_test)\n",
    "    K.append(k)\n",
    "    training.append(training_score)\n",
    "    test.append(test_score)\n",
    "    scores[k] = [training_score, test_score]\n",
    "\n",
    "for keys, values in scores.items():\n",
    "    print(keys, ':', values)\n",
    "\n",
    "import matplotlib.pyplot as plt\n",
    "plt.scatter(K,training,color='red')\n",
    "plt.scatter(K,test,color='green')\n",
    "plt.show()"
   ]
  },
  {
   "cell_type": "code",
   "execution_count": null,
   "id": "c4842a59",
   "metadata": {},
   "outputs": [],
   "source": []
  }
 ],
 "metadata": {
  "kernelspec": {
   "display_name": "Python 3 (ipykernel)",
   "language": "python",
   "name": "python3"
  },
  "language_info": {
   "codemirror_mode": {
    "name": "ipython",
    "version": 3
   },
   "file_extension": ".py",
   "mimetype": "text/x-python",
   "name": "python",
   "nbconvert_exporter": "python",
   "pygments_lexer": "ipython3",
   "version": "3.9.12"
  }
 },
 "nbformat": 4,
 "nbformat_minor": 5
}
