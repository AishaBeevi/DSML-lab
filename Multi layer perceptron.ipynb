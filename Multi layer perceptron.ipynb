{
 "cells": [
  {
   "cell_type": "code",
   "execution_count": null,
   "id": "e0ee09af",
   "metadata": {},
   "outputs": [],
   "source": [
    "Aisha Beevi K M                                                                                 4-11-2022"
   ]
  },
  {
   "cell_type": "markdown",
   "id": "2b6b7e83",
   "metadata": {},
   "source": [
    "# Multi Layer Perceptron"
   ]
  },
  {
   "cell_type": "code",
   "execution_count": 70,
   "id": "da3a373b",
   "metadata": {},
   "outputs": [],
   "source": [
    "# Import required libraries\n",
    "import pandas as pd\n",
    "import numpy as np\n",
    "import matplotlib.pyplot as plt\n",
    "import sklearn\n",
    "from sklearn.neural_network import MLPClassifier\n",
    "#from sklearn.neural_network import MLPRegressor"
   ]
  },
  {
   "cell_type": "code",
   "execution_count": 71,
   "id": "f3d4810e",
   "metadata": {},
   "outputs": [
    {
     "name": "stdout",
     "output_type": "stream",
     "text": [
      "(768, 9)\n"
     ]
    },
    {
     "data": {
      "text/html": [
       "<div>\n",
       "<style scoped>\n",
       "    .dataframe tbody tr th:only-of-type {\n",
       "        vertical-align: middle;\n",
       "    }\n",
       "\n",
       "    .dataframe tbody tr th {\n",
       "        vertical-align: top;\n",
       "    }\n",
       "\n",
       "    .dataframe thead th {\n",
       "        text-align: right;\n",
       "    }\n",
       "</style>\n",
       "<table border=\"1\" class=\"dataframe\">\n",
       "  <thead>\n",
       "    <tr style=\"text-align: right;\">\n",
       "      <th></th>\n",
       "      <th>count</th>\n",
       "      <th>mean</th>\n",
       "      <th>std</th>\n",
       "      <th>min</th>\n",
       "      <th>25%</th>\n",
       "      <th>50%</th>\n",
       "      <th>75%</th>\n",
       "      <th>max</th>\n",
       "    </tr>\n",
       "  </thead>\n",
       "  <tbody>\n",
       "    <tr>\n",
       "      <th>Pregnancies</th>\n",
       "      <td>768.0</td>\n",
       "      <td>3.845052</td>\n",
       "      <td>3.369578</td>\n",
       "      <td>0.000</td>\n",
       "      <td>1.00000</td>\n",
       "      <td>3.0000</td>\n",
       "      <td>6.00000</td>\n",
       "      <td>17.00</td>\n",
       "    </tr>\n",
       "    <tr>\n",
       "      <th>Glucose</th>\n",
       "      <td>768.0</td>\n",
       "      <td>120.894531</td>\n",
       "      <td>31.972618</td>\n",
       "      <td>0.000</td>\n",
       "      <td>99.00000</td>\n",
       "      <td>117.0000</td>\n",
       "      <td>140.25000</td>\n",
       "      <td>199.00</td>\n",
       "    </tr>\n",
       "    <tr>\n",
       "      <th>BloodPressure</th>\n",
       "      <td>768.0</td>\n",
       "      <td>69.105469</td>\n",
       "      <td>19.355807</td>\n",
       "      <td>0.000</td>\n",
       "      <td>62.00000</td>\n",
       "      <td>72.0000</td>\n",
       "      <td>80.00000</td>\n",
       "      <td>122.00</td>\n",
       "    </tr>\n",
       "    <tr>\n",
       "      <th>SkinThickness</th>\n",
       "      <td>768.0</td>\n",
       "      <td>20.536458</td>\n",
       "      <td>15.952218</td>\n",
       "      <td>0.000</td>\n",
       "      <td>0.00000</td>\n",
       "      <td>23.0000</td>\n",
       "      <td>32.00000</td>\n",
       "      <td>99.00</td>\n",
       "    </tr>\n",
       "    <tr>\n",
       "      <th>Insulin</th>\n",
       "      <td>768.0</td>\n",
       "      <td>79.799479</td>\n",
       "      <td>115.244002</td>\n",
       "      <td>0.000</td>\n",
       "      <td>0.00000</td>\n",
       "      <td>30.5000</td>\n",
       "      <td>127.25000</td>\n",
       "      <td>846.00</td>\n",
       "    </tr>\n",
       "    <tr>\n",
       "      <th>BMI</th>\n",
       "      <td>768.0</td>\n",
       "      <td>31.992578</td>\n",
       "      <td>7.884160</td>\n",
       "      <td>0.000</td>\n",
       "      <td>27.30000</td>\n",
       "      <td>32.0000</td>\n",
       "      <td>36.60000</td>\n",
       "      <td>67.10</td>\n",
       "    </tr>\n",
       "    <tr>\n",
       "      <th>DiabetesPedigreeFunction</th>\n",
       "      <td>768.0</td>\n",
       "      <td>0.471876</td>\n",
       "      <td>0.331329</td>\n",
       "      <td>0.078</td>\n",
       "      <td>0.24375</td>\n",
       "      <td>0.3725</td>\n",
       "      <td>0.62625</td>\n",
       "      <td>2.42</td>\n",
       "    </tr>\n",
       "    <tr>\n",
       "      <th>Age</th>\n",
       "      <td>768.0</td>\n",
       "      <td>33.240885</td>\n",
       "      <td>11.760232</td>\n",
       "      <td>21.000</td>\n",
       "      <td>24.00000</td>\n",
       "      <td>29.0000</td>\n",
       "      <td>41.00000</td>\n",
       "      <td>81.00</td>\n",
       "    </tr>\n",
       "    <tr>\n",
       "      <th>Outcome</th>\n",
       "      <td>768.0</td>\n",
       "      <td>0.348958</td>\n",
       "      <td>0.476951</td>\n",
       "      <td>0.000</td>\n",
       "      <td>0.00000</td>\n",
       "      <td>0.0000</td>\n",
       "      <td>1.00000</td>\n",
       "      <td>1.00</td>\n",
       "    </tr>\n",
       "  </tbody>\n",
       "</table>\n",
       "</div>"
      ],
      "text/plain": [
       "                          count        mean         std     min       25%  \\\n",
       "Pregnancies               768.0    3.845052    3.369578   0.000   1.00000   \n",
       "Glucose                   768.0  120.894531   31.972618   0.000  99.00000   \n",
       "BloodPressure             768.0   69.105469   19.355807   0.000  62.00000   \n",
       "SkinThickness             768.0   20.536458   15.952218   0.000   0.00000   \n",
       "Insulin                   768.0   79.799479  115.244002   0.000   0.00000   \n",
       "BMI                       768.0   31.992578    7.884160   0.000  27.30000   \n",
       "DiabetesPedigreeFunction  768.0    0.471876    0.331329   0.078   0.24375   \n",
       "Age                       768.0   33.240885   11.760232  21.000  24.00000   \n",
       "Outcome                   768.0    0.348958    0.476951   0.000   0.00000   \n",
       "\n",
       "                               50%        75%     max  \n",
       "Pregnancies                 3.0000    6.00000   17.00  \n",
       "Glucose                   117.0000  140.25000  199.00  \n",
       "BloodPressure              72.0000   80.00000  122.00  \n",
       "SkinThickness              23.0000   32.00000   99.00  \n",
       "Insulin                    30.5000  127.25000  846.00  \n",
       "BMI                        32.0000   36.60000   67.10  \n",
       "DiabetesPedigreeFunction    0.3725    0.62625    2.42  \n",
       "Age                        29.0000   41.00000   81.00  \n",
       "Outcome                     0.0000    1.00000    1.00  "
      ]
     },
     "execution_count": 71,
     "metadata": {},
     "output_type": "execute_result"
    }
   ],
   "source": [
    "df = pd.read_csv('diabetes.csv')\n",
    "print(df.shape)\n",
    "df.describe().transpose()"
   ]
  },
  {
   "cell_type": "code",
   "execution_count": 72,
   "id": "312d11c0",
   "metadata": {},
   "outputs": [
    {
     "data": {
      "text/plain": [
       "0    500\n",
       "1    268\n",
       "Name: Outcome, dtype: int64"
      ]
     },
     "execution_count": 72,
     "metadata": {},
     "output_type": "execute_result"
    }
   ],
   "source": [
    "df.Outcome.value_counts()"
   ]
  },
  {
   "cell_type": "code",
   "execution_count": 73,
   "id": "5934234a",
   "metadata": {},
   "outputs": [
    {
     "name": "stdout",
     "output_type": "stream",
     "text": [
      "0      1\n",
      "1      0\n",
      "2      1\n",
      "3      0\n",
      "4      1\n",
      "      ..\n",
      "763    0\n",
      "764    0\n",
      "765    0\n",
      "766    1\n",
      "767    0\n",
      "Name: Outcome, Length: 768, dtype: int64\n",
      "     Pregnancies  Glucose  BloodPressure  SkinThickness  Insulin   BMI  \\\n",
      "0              6      148             72             35        0  33.6   \n",
      "1              1       85             66             29        0  26.6   \n",
      "2              8      183             64              0        0  23.3   \n",
      "3              1       89             66             23       94  28.1   \n",
      "4              0      137             40             35      168  43.1   \n",
      "..           ...      ...            ...            ...      ...   ...   \n",
      "763           10      101             76             48      180  32.9   \n",
      "764            2      122             70             27        0  36.8   \n",
      "765            5      121             72             23      112  26.2   \n",
      "766            1      126             60              0        0  30.1   \n",
      "767            1       93             70             31        0  30.4   \n",
      "\n",
      "     DiabetesPedigreeFunction  Age  \n",
      "0                       0.627   50  \n",
      "1                       0.351   31  \n",
      "2                       0.672   32  \n",
      "3                       0.167   21  \n",
      "4                       2.288   33  \n",
      "..                        ...  ...  \n",
      "763                     0.171   63  \n",
      "764                     0.340   27  \n",
      "765                     0.245   30  \n",
      "766                     0.349   47  \n",
      "767                     0.315   23  \n",
      "\n",
      "[768 rows x 8 columns]\n"
     ]
    }
   ],
   "source": [
    "#Extracting Independent and dependent Variable\n",
    "y=df['Outcome']\n",
    "print(y)\n",
    "df=df.drop(['Outcome'],axis=1)\n",
    "x= df\n",
    "print(x)"
   ]
  },
  {
   "cell_type": "code",
   "execution_count": 74,
   "id": "c05e65ae",
   "metadata": {},
   "outputs": [
    {
     "name": "stdout",
     "output_type": "stream",
     "text": [
      "(576, 8)\n",
      "(192, 8)\n"
     ]
    }
   ],
   "source": [
    "from sklearn.model_selection import train_test_split\n",
    "x_train,x_test,y_train,y_test=train_test_split(x,y,test_size=0.25,random_state=0)\n",
    "print(x_train.shape)\n",
    "print(x_test.shape)"
   ]
  },
  {
   "cell_type": "code",
   "execution_count": 75,
   "id": "3767c16b",
   "metadata": {},
   "outputs": [
    {
     "name": "stdout",
     "output_type": "stream",
     "text": [
      "[[0.52941176 0.44949495 0.50819672 ... 0.33532042 0.02732707 0.2       ]\n",
      " [0.05882353 0.5959596  0.47540984 ... 0.49627422 0.07813834 0.03333333]\n",
      " [0.         0.45959596 0.6557377  ... 0.4828614  0.22331341 0.1       ]\n",
      " ...\n",
      " [0.23529412 0.47474747 0.53278689 ... 0.3681073  0.02988898 0.        ]\n",
      " [0.64705882 0.42929293 0.60655738 ... 0.4485842  0.09479078 0.23333333]\n",
      " [0.29411765 0.68686869 0.67213115 ... 0.         0.23996584 0.8       ]]\n"
     ]
    }
   ],
   "source": [
    "from sklearn.preprocessing import MinMaxScaler\n",
    "st_x=MinMaxScaler()\n",
    "x_train=st_x.fit_transform(x_train)\n",
    "x_test=st_x.fit_transform(x_test)\n",
    "print(x_train)"
   ]
  },
  {
   "cell_type": "code",
   "execution_count": 76,
   "id": "9cf11082",
   "metadata": {},
   "outputs": [
    {
     "name": "stderr",
     "output_type": "stream",
     "text": [
      "/opt/anaconda3/lib/python3.9/site-packages/sklearn/neural_network/_multilayer_perceptron.py:692: ConvergenceWarning: Stochastic Optimizer: Maximum iterations (500) reached and the optimization hasn't converged yet.\n",
      "  warnings.warn(\n"
     ]
    }
   ],
   "source": [
    "classifier=MLPClassifier(hidden_layer_sizes=(8,8,8), activation='relu', solver='adam', max_iter=500)\n",
    "classifier.fit(x_train,y_train)\n",
    "x_pred=classifier.predict(x_train)\n",
    "y_pred=classifier.predict(x_test)"
   ]
  },
  {
   "cell_type": "code",
   "execution_count": 77,
   "id": "1041c9b2",
   "metadata": {},
   "outputs": [
    {
     "name": "stdout",
     "output_type": "stream",
     "text": [
      "(192,)\n",
      "(192,)\n"
     ]
    }
   ],
   "source": [
    "print(y_test.shape)\n",
    "print(y_pred.shape)"
   ]
  },
  {
   "cell_type": "code",
   "execution_count": 78,
   "id": "fcc48d3a",
   "metadata": {},
   "outputs": [
    {
     "name": "stdout",
     "output_type": "stream",
     "text": [
      "(192,)\n",
      "(192,)\n"
     ]
    }
   ],
   "source": [
    "print(y_pred.shape)\n",
    "print(y_test.shape)"
   ]
  },
  {
   "cell_type": "code",
   "execution_count": 79,
   "id": "18b752f2",
   "metadata": {},
   "outputs": [
    {
     "name": "stdout",
     "output_type": "stream",
     "text": [
      "[[96 34]\n",
      " [10 52]]\n"
     ]
    }
   ],
   "source": [
    "from sklearn.metrics import confusion_matrix\n",
    "cm=confusion_matrix(y_test,y_pred)\n",
    "print(cm)"
   ]
  },
  {
   "cell_type": "code",
   "execution_count": 80,
   "id": "e11cba5d",
   "metadata": {},
   "outputs": [
    {
     "name": "stdout",
     "output_type": "stream",
     "text": [
      "[[325  45]\n",
      " [ 79 127]]\n"
     ]
    }
   ],
   "source": [
    "from sklearn.metrics import confusion_matrix\n",
    "cm1= confusion_matrix(y_train, x_pred)\n",
    "print(cm1)"
   ]
  },
  {
   "cell_type": "code",
   "execution_count": 81,
   "id": "36588486",
   "metadata": {},
   "outputs": [
    {
     "data": {
      "text/plain": [
       "<sklearn.metrics._plot.confusion_matrix.ConfusionMatrixDisplay at 0x7fba5bb2d670>"
      ]
     },
     "execution_count": 81,
     "metadata": {},
     "output_type": "execute_result"
    },
    {
     "data": {
      "image/png": "[encoded data removed]",
      "text/plain": [
       "<Figure size 432x288 with 2 Axes>"
      ]
     },
     "metadata": {
      "needs_background": "light"
     },
     "output_type": "display_data"
    }
   ],
   "source": [
    "from sklearn.metrics import ConfusionMatrixDisplay\n",
    "disp = ConfusionMatrixDisplay(confusion_matrix=cm,\n",
    "display_labels=classifier.classes_)\n",
    "disp.plot()"
   ]
  },
  {
   "cell_type": "code",
   "execution_count": 82,
   "id": "ab5cfde3",
   "metadata": {},
   "outputs": [
    {
     "name": "stdout",
     "output_type": "stream",
     "text": [
      "Accuracy score: 0.7708333333333334\n",
      "Precision score: 0.9056603773584906\n",
      "Recall score: 0.7384615384615385\n",
      "F1 score: 0.8135593220338984\n"
     ]
    }
   ],
   "source": [
    "from sklearn.metrics import accuracy_score, precision_score, recall_score, f1_score\n",
    "print('Accuracy score: {}'.format(accuracy_score(y_test, y_pred)))\n",
    "print('Precision score: {}'.format(precision_score(y_test, y_pred,pos_label=0)))\n",
    "print('Recall score: {}'.format(recall_score(y_test, y_pred,pos_label=0)))\n",
    "print('F1 score: {}'.format(f1_score(y_test, y_pred,pos_label=0)))"
   ]
  },
  {
   "cell_type": "code",
   "execution_count": 83,
   "id": "4b0c92f8",
   "metadata": {},
   "outputs": [
    {
     "data": {
      "text/plain": [
       "[array([[-4.43040940e-01, -1.52040210e-01,  8.68558397e-02,\n",
       "          6.54116228e-01, -6.27322435e-12, -3.99097261e-12,\n",
       "         -5.22129680e-02,  2.13257259e-01],\n",
       "        [-2.73590330e-01,  8.05061783e-01, -7.53956606e-01,\n",
       "          5.94386955e-01,  6.17407256e-27, -3.79728688e-03,\n",
       "         -8.97062384e-02,  1.20166931e-01],\n",
       "        [ 3.70526689e-01, -1.72412533e-01,  2.77308906e-01,\n",
       "          3.05740135e-01, -2.28560779e-06, -1.69198933e-03,\n",
       "         -1.77528698e-02,  1.67379748e-01],\n",
       "        [-2.56768085e-01, -1.19518043e-01,  4.32721154e-01,\n",
       "          6.63442793e-01,  6.48524356e-04,  2.05527017e-27,\n",
       "         -6.16521823e-01,  5.78881732e-01],\n",
       "        [ 5.77101970e-02, -4.61816000e-01,  2.13516845e-02,\n",
       "          2.68769518e-01,  6.03333342e-04, -6.58648272e-04,\n",
       "         -4.55205587e-01,  1.12453526e-01],\n",
       "        [-3.19610653e-01,  3.35602104e-01,  8.27359026e-02,\n",
       "          6.82213529e-01, -4.45623334e-03,  2.30527164e-07,\n",
       "         -3.69706834e-01, -5.47557111e-01],\n",
       "        [ 1.92881991e-01, -9.37547720e-02, -4.94079798e-01,\n",
       "          5.29800893e-01,  1.55116804e-06, -1.26059889e-03,\n",
       "         -5.54541532e-01, -1.45723821e-01],\n",
       "        [-8.86188159e-01, -1.53634996e-01, -1.76068453e-01,\n",
       "          6.87051611e-01, -4.76241590e-08, -6.62013568e-04,\n",
       "          5.28381775e-01, -3.96216275e-01]]),\n",
       " array([[-3.83384484e-03,  9.19620401e-02,  1.19586232e+00,\n",
       "          4.64545437e-02,  2.98215352e-01, -7.73080012e-01,\n",
       "          4.04306097e-04,  3.92018171e-01],\n",
       "        [-3.11909105e-06,  9.46685312e-01, -4.32423236e-01,\n",
       "          8.70447977e-01, -1.32553277e+00,  1.35972660e+00,\n",
       "          1.88916937e-08, -4.56435210e-01],\n",
       "        [ 1.04569007e-07,  3.23175635e-01,  7.39807685e-01,\n",
       "         -4.56826229e-01,  7.44923519e-02,  3.07681658e-01,\n",
       "          2.29565647e-09,  2.33076615e-01],\n",
       "        [-1.32131193e-07,  8.73732843e-01, -3.29811761e-01,\n",
       "          7.22489493e-01, -3.98365661e-01,  5.40841293e-01,\n",
       "         -1.65354159e-13,  2.64748257e-01],\n",
       "        [-8.95090607e-04, -4.26118904e-04,  1.05685875e-04,\n",
       "         -1.81026387e-09,  3.24184932e-11,  2.44074734e-15,\n",
       "         -8.81287012e-09,  1.90145854e-06],\n",
       "        [-1.48790739e-08,  1.35735784e-04,  3.17439091e-14,\n",
       "          2.93271857e-04, -5.48252406e-03,  4.23441306e-03,\n",
       "          1.65063023e-08, -2.18691897e-11],\n",
       "        [-3.26067217e-03,  1.00525568e-01,  4.08078411e-02,\n",
       "         -1.90244858e-02,  9.74595864e-01, -7.08159095e-01,\n",
       "          5.85644322e-08,  1.03470793e-01],\n",
       "        [ 2.52164540e-03, -3.70701705e-02,  6.13018611e-01,\n",
       "          5.15107384e-01,  7.65052477e-01, -1.60205300e-01,\n",
       "         -1.33739205e-03,  3.94419928e-01]]),\n",
       " array([[-2.74673863e-03,  4.00030216e-18,  6.75266391e-16,\n",
       "          2.59066871e-04,  2.78614101e-19,  6.00512826e-23,\n",
       "         -3.08384732e-32,  2.90196690e-06],\n",
       "        [-7.65823937e-03, -5.17697038e-04,  2.44940505e-01,\n",
       "         -4.31796790e-03,  5.67548304e-33, -2.36306656e-07,\n",
       "          6.50083719e-01, -4.49887768e-01],\n",
       "        [-1.46545950e-06,  8.39550783e-17, -8.32263155e-01,\n",
       "          9.41572162e-07,  1.17295858e-07, -3.09558886e-03,\n",
       "          1.45132938e-01,  1.29178448e+00],\n",
       "        [-3.19247015e-33,  3.87423549e-15,  8.13626638e-01,\n",
       "         -3.26244717e-04,  1.98585199e-03, -1.09626174e-07,\n",
       "         -4.55183000e-02,  2.33477919e-01],\n",
       "        [ 2.27867172e-04,  2.06605125e-09, -1.02063367e+00,\n",
       "          3.58829479e-05,  2.90061607e-08,  1.62688054e-12,\n",
       "          8.92728177e-01,  1.32755457e+00],\n",
       "        [-1.31100860e-05, -1.83810030e-04,  7.63791354e-01,\n",
       "          5.47143984e-05, -4.32049998e-07,  1.92817518e-13,\n",
       "         -2.86572408e-01,  3.24964386e-02],\n",
       "        [-4.37075335e-03,  2.95978832e-08, -3.03203161e-03,\n",
       "         -2.42613967e-10,  1.79919163e-03,  2.85417540e-04,\n",
       "         -8.21443237e-07,  1.49129223e-05],\n",
       "        [-2.53450495e-03,  1.03445789e-05,  2.65586923e-01,\n",
       "          1.63182033e-07, -1.13827057e-05,  1.01601014e-06,\n",
       "          7.36810382e-01,  5.25603538e-01]]),\n",
       " array([[-2.61972980e-02],\n",
       "        [-3.18839877e-20],\n",
       "        [ 9.93340957e-01],\n",
       "        [ 3.65200501e-28],\n",
       "        [ 8.35397351e-03],\n",
       "        [-5.02237693e-06],\n",
       "        [-5.28580163e-01],\n",
       "        [-7.54167375e-01]])]"
      ]
     },
     "execution_count": 83,
     "metadata": {},
     "output_type": "execute_result"
    }
   ],
   "source": [
    "classifier.coefs_\n",
    "##classifier.intercepts_"
   ]
  },
  {
   "cell_type": "code",
   "execution_count": 84,
   "id": "0ce960b7",
   "metadata": {},
   "outputs": [
    {
     "data": {
      "text/plain": [
       "[array([ 0.43688168, -0.28109507,  0.57028516,  0.12649147, -0.5023846 ,\n",
       "        -0.50338044,  0.59260164,  0.80488392]),\n",
       " array([-0.32971611,  0.61470752,  0.06760803,  0.01795195,  0.52212823,\n",
       "         0.60028646, -0.35776979,  0.49409337]),\n",
       " array([-0.59643419, -0.02160808, -0.35939395, -0.48677954, -0.58147353,\n",
       "        -0.56136957,  0.17774978,  0.6285074 ]),\n",
       " array([0.15987351])]"
      ]
     },
     "execution_count": 84,
     "metadata": {},
     "output_type": "execute_result"
    }
   ],
   "source": [
    "classifier.intercepts_"
   ]
  },
  {
   "cell_type": "code",
   "execution_count": null,
   "id": "b56e5c98",
   "metadata": {},
   "outputs": [],
   "source": []
  }
 ],
 "metadata": {
  "kernelspec": {
   "display_name": "Python 3 (ipykernel)",
   "language": "python",
   "name": "python3"
  },
  "language_info": {
   "codemirror_mode": {
    "name": "ipython",
    "version": 3
   },
   "file_extension": ".py",
   "mimetype": "text/x-python",
   "name": "python",
   "nbconvert_exporter": "python",
   "pygments_lexer": "ipython3",
   "version": "3.9.12"
  }
 },
 "nbformat": 4,
 "nbformat_minor": 5
}
